{
 "cells": [
  {
   "cell_type": "code",
   "execution_count": 3,
   "metadata": {},
   "outputs": [],
   "source": [
    "import sqlite3\n",
    "import requests\n",
    "from bs4 import BeautifulSoup \n",
    "from bs4.element import Comment\n",
    "import random \n",
    "import datetime "
   ]
  },
  {
   "cell_type": "code",
   "execution_count": 4,
   "metadata": {},
   "outputs": [],
   "source": [
    "#grab visible text on the webpages\n",
    "def tag_visible(element):\n",
    "    if element.parent.name in ['style', 'script', 'head', 'title', 'meta', '[document]']:\n",
    "        return False\n",
    "    if isinstance(element, Comment):\n",
    "        return False\n",
    "    return True\n",
    "\n",
    "#find all text using beautiful soup and filter through\n",
    "def text_from_html(body):\n",
    "    soup = BeautifulSoup(body, 'html.parser')\n",
    "    texts = soup.findAll(text=True)\n",
    "    visible_texts = filter(tag_visible, texts)\n",
    "    return u\" \".join(t.strip()for t in visible_texts)"
   ]
  },
  {
   "cell_type": "code",
   "execution_count": 5,
   "metadata": {},
   "outputs": [],
   "source": [
    "#store all url's from the text document in a list and opens and reads the text document\n",
    "sites = []\n",
    "with open(\"tennisplayerstitles.txt\",'r') as infile :\n",
    "    for line in infile :\n",
    "        sites.append(line.strip())"
   ]
  },
  {
   "cell_type": "code",
   "execution_count": 8,
   "metadata": {},
   "outputs": [
    {
     "data": {
      "text/plain": [
       "<sqlite3.Cursor at 0x1eee1ca48f0>"
      ]
     },
     "execution_count": 8,
     "metadata": {},
     "output_type": "execute_result"
    }
   ],
   "source": [
    "#connects to a database I made and either drops or creates a table after running the command\n",
    "db = sqlite3.connect(\"tennis.db\")\n",
    "cur = db.cursor()\n",
    "cur.execute('''DROP TABLE IF EXISTS player_table''')\n",
    "cur.execute('''CREATE TABLE player_table (player_url TEXT, player_name TEXT, player_bio TEXT, player_born TEXT)''')"
   ]
  },
  {
   "cell_type": "code",
   "execution_count": 9,
   "metadata": {},
   "outputs": [],
   "source": [
    "#this is grabbing the url, player name, the bio, and the year they were born from the wikipedia pages and creating columns\n",
    "for site in sites:\n",
    "    page = requests.get(site)\n",
    "    soup = BeautifulSoup(page.text, \"html.parser\")\n",
    "    name = text_from_html(str(soup.find_all(\"h1\",attrs={\"id\":\"firstHeading\"})))\n",
    "    text = text_from_html(str(soup.find_all(\"div\", attrs={\"id\":\"bodyContent\"})))\n",
    "    born = text_from_html(str(soup.find_all(\"span\", attrs={\"class\":\"bday\"})))\n",
    "    \n",
    "    \n",
    "    new_row = [site, name, text, born]\n",
    "    cur.execute('''INSERT INTO player_table(player_url, player_name, player_bio, player_born) VALUES(?,?,?,?)''', new_row)\n",
    "    db.commit()"
   ]
  },
  {
   "cell_type": "code",
   "execution_count": 10,
   "metadata": {},
   "outputs": [],
   "source": [
    "#closing the database\n",
    "db.close()"
   ]
  },
  {
   "cell_type": "code",
   "execution_count": 11,
   "metadata": {
    "scrolled": true
   },
   "outputs": [
    {
     "name": "stdout",
     "output_type": "stream",
     "text": [
      "*** Introductory Examples for the NLTK Book ***\n",
      "Loading text1, ..., text9 and sent1, ..., sent9\n",
      "Type the name of the text or sentence to view it.\n",
      "Type: 'texts()' or 'sents()' to list the materials.\n",
      "text1: Moby Dick by Herman Melville 1851\n",
      "text2: Sense and Sensibility by Jane Austen 1811\n",
      "text3: The Book of Genesis\n",
      "text4: Inaugural Address Corpus\n",
      "text5: Chat Corpus\n",
      "text6: Monty Python and the Holy Grail\n",
      "text7: Wall Street Journal\n",
      "text8: Personals Corpus\n",
      "text9: The Man Who Was Thursday by G . K . Chesterton 1908\n"
     ]
    }
   ],
   "source": [
    "%matplotlib inline\n",
    "\n",
    "import nltk\n",
    "#from nltk.book import *\n",
    "\n",
    "import numpy as np\n",
    "import matplotlib \n",
    "import matplotlib.pyplot as plt"
   ]
  },
  {
   "cell_type": "code",
   "execution_count": 65,
   "metadata": {},
   "outputs": [],
   "source": [
    "#open and read the file to analyze the web scraped text, assign it to a list\n",
    "file_location = \"C:\\\\Users\\\\Taylor Toepke\\\\ADA\\\\applied-data-analytics\\\\web-scraping\\\\\"\n",
    "file_name = \"tennis.db\"\n",
    "#file_name = \"20170305_michaelpollan_followers.txt\"\n",
    "\n",
    "descs = []\n",
    "with open(file_location + file_name,'r', encoding= \"Latin-1\") as ifile :\n",
    "    next(ifile)\n",
    "    for idx, line in enumerate(ifile.readlines()) :\n",
    "        line = line.strip().split(\",\")\n",
    "        # spot 6 has the description\n",
    "        if len(line) >= 7 : # sometimes we don't have descriptions\n",
    "            descs.extend(line[1].split())\n",
    "            \n",
    "        # for now we'll just add on to a big list\n",
    "#file_location = \"C:\\\\Users\\\\Taylor Toepke\\\\ADA\\\\applied-data-analytics\\\\web-scraping\\\\\"\n",
    "#input_file = \"tenniswebscrapingproject_TT.txt\"\n",
    "\n"
   ]
  },
  {
   "cell_type": "code",
   "execution_count": 66,
   "metadata": {},
   "outputs": [],
   "source": [
    "   # spot 6 has the description\n",
    "if len(descs) >= 7 : # sometimes we don't have descriptions\n",
    "    sites.extend(line[1].split())\n",
    "        "
   ]
  },
  {
   "cell_type": "code",
   "execution_count": 67,
   "metadata": {},
   "outputs": [
    {
     "ename": "UnicodeDecodeError",
     "evalue": "'charmap' codec can't decode byte 0x81 in position 3960: character maps to <undefined>",
     "output_type": "error",
     "traceback": [
      "\u001b[1;31m---------------------------------------------------------------------------\u001b[0m",
      "\u001b[1;31mUnicodeDecodeError\u001b[0m                        Traceback (most recent call last)",
      "\u001b[1;32m<ipython-input-67-067ba4415db9>\u001b[0m in \u001b[0;36m<module>\u001b[1;34m\u001b[0m\n\u001b[0;32m      1\u001b[0m \u001b[1;31m#read the file and print some lines\u001b[0m\u001b[1;33m\u001b[0m\u001b[1;33m\u001b[0m\u001b[1;33m\u001b[0m\u001b[0m\n\u001b[0;32m      2\u001b[0m \u001b[1;32mwith\u001b[0m \u001b[0mopen\u001b[0m\u001b[1;33m(\u001b[0m\u001b[0mfile_location\u001b[0m \u001b[1;33m+\u001b[0m \u001b[0mfile_name\u001b[0m\u001b[1;33m,\u001b[0m\u001b[1;34m'r'\u001b[0m\u001b[1;33m)\u001b[0m \u001b[1;32mas\u001b[0m \u001b[0mifile\u001b[0m \u001b[1;33m:\u001b[0m\u001b[1;33m\u001b[0m\u001b[1;33m\u001b[0m\u001b[0m\n\u001b[1;32m----> 3\u001b[1;33m     \u001b[0mprint\u001b[0m\u001b[1;33m(\u001b[0m\u001b[0mifile\u001b[0m\u001b[1;33m.\u001b[0m\u001b[0mreadline\u001b[0m\u001b[1;33m(\u001b[0m\u001b[1;36m500\u001b[0m\u001b[1;33m)\u001b[0m\u001b[1;33m)\u001b[0m\u001b[1;33m\u001b[0m\u001b[1;33m\u001b[0m\u001b[0m\n\u001b[0m",
      "\u001b[1;32m~\\Anaconda3\\lib\\encodings\\cp1252.py\u001b[0m in \u001b[0;36mdecode\u001b[1;34m(self, input, final)\u001b[0m\n\u001b[0;32m     21\u001b[0m \u001b[1;32mclass\u001b[0m \u001b[0mIncrementalDecoder\u001b[0m\u001b[1;33m(\u001b[0m\u001b[0mcodecs\u001b[0m\u001b[1;33m.\u001b[0m\u001b[0mIncrementalDecoder\u001b[0m\u001b[1;33m)\u001b[0m\u001b[1;33m:\u001b[0m\u001b[1;33m\u001b[0m\u001b[1;33m\u001b[0m\u001b[0m\n\u001b[0;32m     22\u001b[0m     \u001b[1;32mdef\u001b[0m \u001b[0mdecode\u001b[0m\u001b[1;33m(\u001b[0m\u001b[0mself\u001b[0m\u001b[1;33m,\u001b[0m \u001b[0minput\u001b[0m\u001b[1;33m,\u001b[0m \u001b[0mfinal\u001b[0m\u001b[1;33m=\u001b[0m\u001b[1;32mFalse\u001b[0m\u001b[1;33m)\u001b[0m\u001b[1;33m:\u001b[0m\u001b[1;33m\u001b[0m\u001b[1;33m\u001b[0m\u001b[0m\n\u001b[1;32m---> 23\u001b[1;33m         \u001b[1;32mreturn\u001b[0m \u001b[0mcodecs\u001b[0m\u001b[1;33m.\u001b[0m\u001b[0mcharmap_decode\u001b[0m\u001b[1;33m(\u001b[0m\u001b[0minput\u001b[0m\u001b[1;33m,\u001b[0m\u001b[0mself\u001b[0m\u001b[1;33m.\u001b[0m\u001b[0merrors\u001b[0m\u001b[1;33m,\u001b[0m\u001b[0mdecoding_table\u001b[0m\u001b[1;33m)\u001b[0m\u001b[1;33m[\u001b[0m\u001b[1;36m0\u001b[0m\u001b[1;33m]\u001b[0m\u001b[1;33m\u001b[0m\u001b[1;33m\u001b[0m\u001b[0m\n\u001b[0m\u001b[0;32m     24\u001b[0m \u001b[1;33m\u001b[0m\u001b[0m\n\u001b[0;32m     25\u001b[0m \u001b[1;32mclass\u001b[0m \u001b[0mStreamWriter\u001b[0m\u001b[1;33m(\u001b[0m\u001b[0mCodec\u001b[0m\u001b[1;33m,\u001b[0m\u001b[0mcodecs\u001b[0m\u001b[1;33m.\u001b[0m\u001b[0mStreamWriter\u001b[0m\u001b[1;33m)\u001b[0m\u001b[1;33m:\u001b[0m\u001b[1;33m\u001b[0m\u001b[1;33m\u001b[0m\u001b[0m\n",
      "\u001b[1;31mUnicodeDecodeError\u001b[0m: 'charmap' codec can't decode byte 0x81 in position 3960: character maps to <undefined>"
     ]
    }
   ],
   "source": [
    "#read the file and print some lines\n",
    "with open(file_location + file_name,'r') as ifile :\n",
    "    print(ifile.readline(500))\n"
   ]
  },
  {
   "cell_type": "code",
   "execution_count": 68,
   "metadata": {},
   "outputs": [
    {
     "data": {
      "text/plain": [
       "3615"
      ]
     },
     "execution_count": 68,
     "metadata": {},
     "output_type": "execute_result"
    }
   ],
   "source": [
    "#grab the length of the list\n",
    "len(descs)"
   ]
  },
  {
   "cell_type": "code",
   "execution_count": 69,
   "metadata": {},
   "outputs": [
    {
     "data": {
      "text/plain": [
       "[('to', 197),\n",
       " ('Jump', 182),\n",
       " ('the', 174),\n",
       " ('free', 93),\n",
       " ('encyclopedia', 93),\n",
       " ('navigation', 91),\n",
       " ('search', 91),\n",
       " ('in', 51),\n",
       " ('CountryÂ', 49),\n",
       " ('(sports)', 49),\n",
       " ('tennis', 48),\n",
       " ('Residence', 45),\n",
       " ('.', 40),\n",
       " ('player', 38),\n",
       " ('a', 34),\n",
       " ('of', 33),\n",
       " ('and', 30),\n",
       " ('is', 30),\n",
       " ('This', 28),\n",
       " ('living', 28),\n",
       " ('For', 24),\n",
       " ('name', 23),\n",
       " ('for', 22),\n",
       " ('Open', 22),\n",
       " ('or', 20)]"
      ]
     },
     "execution_count": 69,
     "metadata": {},
     "output_type": "execute_result"
    }
   ],
   "source": [
    "#frequency distribution on the list\n",
    "tennis_fd = FreqDist(descs)\n",
    "tennis_fd.most_common(25)"
   ]
  },
  {
   "cell_type": "code",
   "execution_count": 70,
   "metadata": {},
   "outputs": [
    {
     "ename": "ValueError",
     "evalue": "too many values to unpack (expected 2)",
     "output_type": "error",
     "traceback": [
      "\u001b[1;31m---------------------------------------------------------------------------\u001b[0m",
      "\u001b[1;31mValueError\u001b[0m                                Traceback (most recent call last)",
      "\u001b[1;32m<ipython-input-70-5150a522357b>\u001b[0m in \u001b[0;36m<module>\u001b[1;34m\u001b[0m\n\u001b[1;32m----> 1\u001b[1;33m \u001b[0msum\u001b[0m\u001b[1;33m(\u001b[0m\u001b[1;33m[\u001b[0m\u001b[0mcnt\u001b[0m \u001b[1;32mfor\u001b[0m \u001b[0mw\u001b[0m\u001b[1;33m,\u001b[0m \u001b[0mcnt\u001b[0m \u001b[1;32min\u001b[0m \u001b[0mtennis_fd\u001b[0m\u001b[1;33m]\u001b[0m\u001b[1;33m)\u001b[0m\u001b[1;33m\u001b[0m\u001b[1;33m\u001b[0m\u001b[0m\n\u001b[0m",
      "\u001b[1;32m<ipython-input-70-5150a522357b>\u001b[0m in \u001b[0;36m<listcomp>\u001b[1;34m(.0)\u001b[0m\n\u001b[1;32m----> 1\u001b[1;33m \u001b[0msum\u001b[0m\u001b[1;33m(\u001b[0m\u001b[1;33m[\u001b[0m\u001b[0mcnt\u001b[0m \u001b[1;32mfor\u001b[0m \u001b[0mw\u001b[0m\u001b[1;33m,\u001b[0m \u001b[0mcnt\u001b[0m \u001b[1;32min\u001b[0m \u001b[0mtennis_fd\u001b[0m\u001b[1;33m]\u001b[0m\u001b[1;33m)\u001b[0m\u001b[1;33m\u001b[0m\u001b[1;33m\u001b[0m\u001b[0m\n\u001b[0m",
      "\u001b[1;31mValueError\u001b[0m: too many values to unpack (expected 2)"
     ]
    }
   ],
   "source": [
    "sum([cnt for w, cnt in tennis_fd])"
   ]
  },
  {
   "cell_type": "code",
   "execution_count": 71,
   "metadata": {},
   "outputs": [
    {
     "name": "stdout",
     "output_type": "stream",
     "text": [
      "<FreqDist with 1007 samples and 3615 outcomes>\n"
     ]
    }
   ],
   "source": [
    "#print samples and outcomes of Frequency Distribution \n",
    "fd = FreqDist(descs)\n",
    "fd.most_common(10)\n",
    "print(fd)"
   ]
  },
  {
   "cell_type": "code",
   "execution_count": 72,
   "metadata": {},
   "outputs": [],
   "source": [
    "#cleaning the list and importing stopwords\n",
    "stopwords = set(nltk.corpus.stopwords.words(\"english\"))\n",
    "stopwords_sp = set(nltk.corpus.stopwords.words(\"spanish\"))\n",
    "\n",
    "def clean_list(text) :\n",
    "    ''' takes a list of text and returns a new list with \n",
    "        * words cast to lowercase\n",
    "        * stopwords removed\n",
    "        * only alphanumeric words\n",
    "    '''\n",
    "    text_clean = [w.lower() for w in text if w.isalpha()]\n",
    "    text_clean = [w for w in text_clean if w not in stopwords]\n",
    "    text_clean = [w for w in text_clean if w not in stopwords_sp]\n",
    "    return(text_clean)"
   ]
  },
  {
   "cell_type": "code",
   "execution_count": 73,
   "metadata": {},
   "outputs": [],
   "source": [
    "descs_clean_gm = clean_list(descs)"
   ]
  },
  {
   "cell_type": "code",
   "execution_count": 74,
   "metadata": {},
   "outputs": [
    {
     "name": "stdout",
     "output_type": "stream",
     "text": [
      "<FreqDist with 629 samples and 2150 outcomes>\n"
     ]
    }
   ],
   "source": [
    "#print samples and outcomes\n",
    "fd_mp = FreqDist(descs_clean_gm)\n",
    "fd_mp.most_common(20)\n",
    "print(fd_mp)"
   ]
  },
  {
   "cell_type": "code",
   "execution_count": 75,
   "metadata": {},
   "outputs": [
    {
     "data": {
      "text/plain": [
       "[('jump', 182),\n",
       " ('free', 93),\n",
       " ('encyclopedia', 93),\n",
       " ('navigation', 91),\n",
       " ('search', 91),\n",
       " ('tennis', 51),\n",
       " ('countryâ', 49),\n",
       " ('residence', 45),\n",
       " ('player', 39),\n",
       " ('living', 28),\n",
       " ('name', 23),\n",
       " ('open', 22),\n",
       " ('citations', 18),\n",
       " ('needs', 16),\n",
       " ('additional', 16),\n",
       " ('verification', 16),\n",
       " ('please', 16),\n",
       " ('help', 16),\n",
       " ('adding', 16),\n",
       " ('reliable', 16),\n",
       " ('sources', 16),\n",
       " ('material', 16),\n",
       " ('unsourced', 16),\n",
       " ('australian', 16),\n",
       " ('first', 14),\n",
       " ('biography', 14),\n",
       " ('person', 14),\n",
       " ('contentious', 14),\n",
       " ('persons', 14),\n",
       " ('poorly', 14),\n",
       " ('sourced', 14),\n",
       " ('must', 14),\n",
       " ('removed', 14),\n",
       " ('immediately', 14),\n",
       " ('united', 13),\n",
       " ('states', 13),\n",
       " ('article', 12),\n",
       " ('final', 12),\n",
       " ('wimbledon', 10),\n",
       " ('full', 10),\n",
       " ('born', 9),\n",
       " ('american', 9),\n",
       " ('us', 8),\n",
       " ('uses', 7),\n",
       " ('czech', 7),\n",
       " ('australia', 7),\n",
       " ('round', 7),\n",
       " ('redirects', 6),\n",
       " ('family', 6),\n",
       " ('french', 6)]"
      ]
     },
     "execution_count": 75,
     "metadata": {},
     "output_type": "execute_result"
    }
   ],
   "source": [
    "#print most common clean words\n",
    "fd_gm = FreqDist(descs_clean_gm)\n",
    "fd_gm.most_common(50)"
   ]
  },
  {
   "cell_type": "code",
   "execution_count": 78,
   "metadata": {},
   "outputs": [
    {
     "name": "stdout",
     "output_type": "stream",
     "text": [
      "['text', 'free', 'encyclopedia', 'jump', 'navigation', 'jump', 'search', 'redirects', 'uses', 'lost', 'decider', 'wimbledon', 'herbert', 'free', 'encyclopedia', 'jump', 'navigation', 'jump', 'search', 'brazilian', 'tennis', 'player', 'name', 'uses', 'portuguese', 'naming', 'customs', 'first', 'maternal', 'family', 'name', 'pinheiro', 'second', 'paternal', 'family', 'name', 'davi', 'melo', 'marcelo', 'melo', 'countryâ', 'brazil', 'residence', 'belo', 'horizonte', 'free', 'encyclopedia', 'jump', 'navigation', 'jump', 'search', 'french', 'tennis', 'player', 'pop', 'singer', 'yannick', 'noah', 'yannick', 'noah', 'davis', 'countryâ', 'france', 'born', 'may', 'sedan', 'free', 'encyclopedia', 'jump', 'navigation', 'jump', 'search', 'biography', 'living', 'person', 'needs', 'additional', 'citations', 'verification', 'please', 'help', 'adding', 'reliable', 'sources', 'contentious', 'material', 'living', 'persons', 'unsourced', 'poorly', 'sourced', 'must', 'removed', 'immediately', 'free', 'encyclopedia', 'jump', 'navigation', 'jump', 'search', 'native', 'form', 'personal', 'name', 'article', 'uses', 'western', 'name', 'order', 'mentioning', 'countryâ', 'hungary', 'residence', 'budapest', 'free', 'encyclopedia', 'jump', 'navigation', 'jump', 'search', 'article', 'former', 'tennis', 'player', 'represented', 'czech', 'free', 'encyclopedia', 'jump', 'navigation', 'jump', 'search', 'article', 'needs', 'additional', 'citations', 'verification', 'please', 'help', 'improve', 'article', 'adding', 'citations', 'reliable', 'sources', 'unsourced', 'material', 'may', 'challenged', 'find', 'news', 'newspapers', 'books', 'scholar', 'jstor', 'march', 'learn', 'remove', 'template', 'message', 'ken', 'flach', 'countryâ', 'united', 'states', 'residence', 'novato', 'free', 'encyclopedia', 'jump', 'navigation', 'jump', 'search', 'danish', 'ice', 'hockey', 'goaltender', 'free', 'encyclopedia', 'jump', 'navigation', 'jump', 'search', 'romanian', 'tennis', 'player', 'horia', 'horia', 'french', 'open', 'paris', 'countryâ', 'romania', 'residence', 'free', 'encyclopedia', 'jump', 'navigation', 'jump', 'search', 'biography', 'living', 'person', 'needs', 'additional', 'citations', 'verification', 'please', 'help', 'adding', 'reliable', 'sources', 'contentious', 'material', 'living', 'persons', 'unsourced', 'poorly', 'sourced', 'must', 'removed', 'immediately', 'new', 'partnership', 'jamie', 'murray', 'edit', 'soares', 'titles', 'jamie', 'murray', 'free', 'encyclopedia', 'jump', 'navigation', 'jump', 'search', 'biography', 'living', 'person', 'needs', 'additional', 'citations', 'verification', 'please', 'help', 'adding', 'reliable', 'sources', 'contentious', 'material', 'living', 'persons', 'unsourced', 'poorly', 'sourced', 'must', 'removed', 'immediately', 'free', 'encyclopedia', 'jump', 'navigation', 'jump', 'search', 'czech', 'olympic', 'sports', 'shooter', 'free', 'encyclopedia', 'jump', 'navigation', 'jump', 'search', 'croatian', 'tennis', 'player', 'goran', 'tie', 'break', 'tens', 'countryâ', 'yugoslavia', 'croatia', 'residence', 'monte', 'carlo', 'free', 'encyclopedia', 'jump', 'navigation', 'jump', 'search', 'fabrice', 'santoro', 'countryâ', 'france', 'residence', 'geneva', 'free', 'encyclopedia', 'jump', 'navigation', 'jump', 'search', 'llodra', 'countryâ', 'france', 'residence', 'israel', 'hard', 'michiel', 'schapers', 'javier', 'frana', 'leonardo', 'lavalle', 'free', 'encyclopedia', 'jump', 'navigation', 'jump', 'search', 'biography', 'living', 'person', 'needs', 'additional', 'citations', 'verification', 'please', 'help', 'adding', 'reliable', 'sources', 'contentious', 'material', 'living', 'persons', 'unsourced', 'poorly', 'sourced', 'must', 'removed', 'immediately', 'biggest', 'thing', 'free', 'encyclopedia', 'jump', 'navigation', 'jump', 'search', 'american', 'tennis', 'player', 'michael', 'jackson', 'song', 'free', 'encyclopedia', 'jump', 'navigation', 'jump', 'search', 'american', 'tennis', 'player', 'article', 'tennis', 'horse', 'free', 'encyclopedia', 'jump', 'navigation', 'jump', 'search', 'uses', 'name', 'casals', 'free', 'encyclopedia', 'jump', 'navigation', 'jump', 'search', 'german', 'tennis', 'player', 'redirects', 'german', 'painter', 'free', 'encyclopedia', 'jump', 'navigation', 'jump', 'search', 'australian', 'tennis', 'player', 'margaret', 'court', 'ao', 'mbe', 'court', 'countryâ', 'australia', 'residence', 'perth', 'reached', 'point', 'contact', 'late', 'typically', 'result', 'free', 'encyclopedia', 'jump', 'navigation', 'jump', 'search', 'czech', 'tennis', 'player', 'jana', 'countryâ', 'czechoslovakia', 'czech', 'republic', 'born', 'october', 'brno', 'free', 'encyclopedia', 'jump', 'navigation', 'jump', 'search', 'american', 'tennis', 'player', 'serena', 'williams', 'williams', 'us', 'open', 'full', 'name', 'serena', 'jameka', 'williams', 'countryâ', 'united', 'states', 'residence', 'palm', 'beach', 'gardens', 'accomplished', 'winning', 'tournaments', 'year', 'margaret', 'court', 'billie', 'jean', 'king', 'chris', 'evert', 'martina', 'navratilova', 'steffi', 'graf', 'wimbledon', 'singles', 'titles', 'age', 'stands', 'alone', 'wimbledon', 'years', 'first', 'last', 'final', 'venus', 'williams', 'us', 'open', 'winner', 'singles', 'titles', 'three', 'decades', 'stands', 'alone', 'us', 'open', 'singles', 'titles', 'chris', 'evert', 'us', 'open', 'match', 'wins', 'chris', 'evert', 'us', 'open', 'years', 'first', 'last', 'title', 'stands', 'alone', 'us', 'open', 'years', 'first', 'last', 'final', 'stands', 'alone', 'us', 'open', 'escapes', 'clutches', 'younger', 'new', 'york', 'times', 'finn', 'free', 'encyclopedia', 'jump', 'navigation', 'jump', 'search', 'american', 'tennis', 'player', 'lindsay', 'davenport', 'leach', 'davenport', 'full', 'name', 'lindsay', 'ann', 'davenport', 'leach', 'countryâ', 'united', 'states', 'residence', 'laguna', 'beach', 'may', 'results', 'picked', 'showing', 'warsaw', 'retrieved', 'july', 'free', 'encyclopedia', 'jump', 'navigation', 'jump', 'search', 'biography', 'living', 'person', 'needs', 'additional', 'citations', 'verification', 'please', 'help', 'adding', 'reliable', 'sources', 'contentious', 'material', 'living', 'persons', 'unsourced', 'poorly', 'sourced', 'must', 'removed', 'immediately', 'free', 'encyclopedia', 'jump', 'navigation', 'jump', 'search', 'helena', 'countryâ', 'czechoslovakia', 'czech', 'republic', 'residence', 'prague', 'free', 'encyclopedia', 'jump', 'navigation', 'jump', 'search', 'tennis', 'detailed', 'statistics', 'free', 'encyclopedia', 'jump', 'navigation', 'jump', 'search', 'puerto', 'rican', 'professional', 'tennis', 'player', 'gigi', 'countryâ', 'united', 'states', 'residence', 'connecticut', 'born', 'february', 'free', 'encyclopedia', 'jump', 'navigation', 'jump', 'search', 'larisa', 'countryâ', 'soviet', 'union', 'ukraine', 'latvia', 'residence', 'free', 'encyclopedia', 'jump', 'navigation', 'jump', 'search', 'wendy', 'turnbull', 'mbe', 'countryâ', 'australia', 'residence', 'boca', 'raton', 'black', 'wta', 'championships', 'doubles', 'australian', 'samantha', 'stosur', 'american', 'lisa', 'raymond', 'defeated', 'australian', 'rennae', 'stubbs', 'black', 'free', 'encyclopedia', 'jump', 'navigation', 'jump', 'search', 'article', 'tennis', 'author', 'free', 'encyclopedia', 'jump', 'navigation', 'jump', 'search', 'rennae', 'stubbs', 'countryâ', 'australia', 'residence', 'sydney', 'tampa', 'free', 'encyclopedia', 'jump', 'navigation', 'jump', 'search', 'yugoslav', 'american', 'tennis', 'player', 'monica', 'seles', 'seles', 'countryâ', 'yugoslavia', 'yugoslavia', 'united', 'states', 'residence', 'sarasota', 'free', 'encyclopedia', 'jump', 'navigation', 'jump', 'search', 'redirects', 'people', 'surname', 'free', 'encyclopedia', 'jump', 'navigation', 'jump', 'search', 'article', 'tennis', 'actress', 'france', 'site', 'match', 'clijsters', 'serena', 'williams', 'first', 'retirement', 'srebotnik', 'wikipedia', 'zadar', 'å', 'ibenik', 'dubai', 'free', 'encyclopedia', 'jump', 'navigation', 'jump', 'search', 'czech', 'tennis', 'player', 'hana', 'countryâ', 'czechoslovakia', 'australia', 'residence', 'prague', 'free', 'encyclopedia', 'jump', 'navigation', 'jump', 'search', 'spanish', 'tennis', 'player', 'another', 'tennis', 'player', 'similar', 'name', 'free', 'encyclopedia', 'jump', 'navigation', 'jump', 'search', 'japanese', 'tennis', 'player', 'biography', 'living', 'person', 'needs', 'additional', 'citations', 'verification', 'please', 'help', 'adding', 'reliable', 'sources', 'contentious', 'material', 'living', 'persons', 'unsourced', 'poorly', 'sourced', 'must', 'removed', 'immediately', 'henin', 'played', 'year', 'german', 'tennis', 'club', 'schweinfurt', 'free', 'encyclopedia', 'jump', 'navigation', 'jump', 'search', 'paola', 'countryâ', 'argentina', 'residence', 'munro', 'born', 'june', 'pergamino', 'height', 'ft', 'turnedâ', 'pro', 'march', 'retired', 'henin', 'built', 'tier', 'win', 'streak', 'record', 'first', 'round', 'sony', 'ericsson', 'open', 'second', 'round', 'net', 'quite', 'comfortable', 'displaying', 'excellent', 'knows', 'position', 'contrast', 'many', 'players', 'get', 'net', 'look', 'like', 'deer', 'renowned', 'tennis', 'coach', 'nick', 'bollettieri', 'included', 'henin', 'one', 'female', 'tennis', 'players', 'regarded', 'successful', 'volleyer', 'adept', 'free', 'encyclopedia', 'jump', 'navigation', 'jump', 'search', 'belgian', 'tennis', 'player', 'justine', 'henin', 'countryâ', 'belgium', 'residence', 'brussels', 'born', 'june', 'height', 'ft', 'turnedâ', 'pro', 'january', 'retired', 'january', 'plays', 'coach', 'carlos', 'prize', 'money', 'mirza', 'started', 'show', 'early', 'success', 'made', 'debut', 'april', 'itf', 'circuit', 'highlights', 'include', 'quarterfinals', 'showing', 'pune', 'semifinal', 'finish', 'new', 'delhi', 'season', 'began', 'mirza', 'vesnina', 'lost', 'czech', 'duo', 'iveta', 'melzer', 'barbora', 'however', 'free', 'encyclopedia', 'jump', 'navigation', 'jump', 'search', 'lori', 'mcneil', 'countryâ', 'united', 'states', 'residence', 'houston', 'free', 'encyclopedia', 'jump', 'navigation', 'jump', 'search', 'australian', 'tennis', 'player', 'samantha', 'stosur', 'stosur', 'wimbledon', 'championships', 'countryâ', 'australia', 'residence', 'gold', 'coast', 'free', 'encyclopedia', 'jump', 'navigation', 'jump', 'search', 'argentine', 'tennis', 'player', 'biography', 'living', 'person', 'needs', 'additional', 'citations', 'verification', 'please', 'help', 'adding', 'reliable', 'sources', 'contentious', 'material', 'living', 'persons', 'unsourced', 'poorly', 'sourced', 'must', 'removed', 'immediately', 'free', 'encyclopedia', 'jump', 'navigation', 'jump', 'search', 'article', 'includes', 'list', 'references', 'beating', 'katarina', 'srebotnik', 'final', 'may', 'sharapova', 'already', 'captured', 'first', 'wta', 'title', 'smaller', 'event', 'free', 'encyclopedia', 'latest', 'accepted', 'revision', 'å', 'three', 'stosur', 'beat', 'french', 'open', 'three', 'coaching', 'edit', 'stosur', 'several', 'coaches', 'david', 'taylor', 'coached', 'free', 'encyclopedia', 'jump', 'navigation', 'jump', 'search', 'sandy', 'mayer', 'full', 'name', 'alexander', 'mayer', 'countryâ', 'united', 'states', 'residence', 'portola', 'valley', 'chan', 'wikipedia', 'subsequently', 'lost', 'fourth', 'round', 'eventual', 'sara', 'kuznetsova', 'suffered', 'first', 'round', 'loss', 'wimbledon', 'kuznetsova', 'upset', 'first', 'match', 'croat', 'donna', 'straight', 'sets', 'receiving', 'first', 'round', 'kuznetsova', 'reached', 'quarterfinals', 'porsche', 'tennis', 'grand', 'prix', 'stuttgart', 'lost', 'serena', 'williams', 'kuznetsova', 'completed', 'year', 'competing', 'championships', 'madrid', 'already', 'singles', 'title', 'holder', 'three', 'event', 'also', 'world', 'angelique', 'kerber', 'world', 'li', 'match', 'one', 'beat', 'kerber', 'subsequently', 'beaten', 'serena', 'final', 'round', 'robin', 'match', 'earning', 'also', 'finished', 'season', 'record', 'six', 'titles', 'free', 'encyclopedia', 'jump', 'navigation', 'jump', 'search', 'article', 'needs', 'additional', 'citations', 'verification', 'please', 'help', 'improve', 'article', 'adding', 'citations', 'reliable', 'sources', 'unsourced', 'material', 'may', 'challenged', 'find', 'news', 'newspapers', 'books', 'scholar', 'jstor', 'november', 'learn', 'remove', 'template', 'message', 'zina', 'garrison', 'garrison', 'countryâ', 'united', 'states', 'residence', 'houston', 'free', 'encyclopedia', 'jump', 'navigation', 'jump', 'search', 'biography', 'living', 'person', 'needs', 'additional', 'citations', 'verification', 'please', 'help', 'adding', 'reliable', 'sources', 'contentious', 'material', 'living', 'persons', 'unsourced', 'poorly', 'sourced', 'must', 'removed', 'immediately', 'free', 'encyclopedia', 'jump', 'navigation', 'jump', 'search', 'claudia', 'countryâ', 'germany', 'born', 'december', 'free', 'encyclopedia', 'jump', 'navigation', 'jump', 'search', 'danish', 'tennis', 'player', 'caroline', 'wozniacki', 'wozniacki', 'eastbourne', 'international', 'countryâ', 'denmark', 'residence', 'fisher', 'island', 'losing', 'ai', 'sugiyama', 'first', 'top', 'ten', 'ranking', 'edit', 'australian', 'open', 'petrova', 'lost', 'ana', 'ivanovic', 'petrova', 'seeded', 'seventh', 'seed', 'free', 'encyclopedia', 'jump', 'navigation', 'jump', 'search', 'american', 'tennis', 'player', 'biography', 'living', 'person', 'needs', 'additional', 'citations', 'verification', 'please', 'help', 'adding', 'reliable', 'sources', 'contentious', 'material', 'living', 'persons', 'unsourced', 'poorly', 'sourced', 'must', 'removed', 'immediately', 'free', 'encyclopedia', 'jump', 'navigation', 'jump', 'search', 'redirects', 'surname', 'free', 'encyclopedia', 'jump', 'navigation', 'jump', 'search', 'belarusian', 'tennis', 'player', 'victoria', 'azarenka', 'azarenka', 'french', 'open', 'full', 'name', 'victoria', 'fyodorovna', 'azarenka', 'nativeâ', 'name', 'countryâ', 'belarus', 'residence', 'manhattan', 'beach', 'zacharie', 'noah', 'free', 'encyclopedia', 'jump', 'navigation', 'jump', 'search', 'swedish', 'tennis', 'player', 'mats', 'wilander', 'mats', 'wilander', 'eurosport', 'studio', 'australian', 'open', 'melbourne', 'park', 'countryâ', 'sweden', 'residence', 'hailey', 'free', 'encyclopedia', 'jump', 'navigation', 'jump', 'search', 'australian', 'tennis', 'player', 'former', 'salford', 'free', 'encyclopedia', 'jump', 'navigation', 'jump', 'search', 'austrian', 'tennis', 'player', 'thomas', 'muster', 'thomas', 'muster', 'countryâ', 'austria', 'residence', 'leibnitz', 'free', 'encyclopedia', 'jump', 'navigation', 'jump', 'search', 'name', 'uses', 'portuguese', 'naming', 'customs', 'first', 'maternal', 'family', 'name', 'fraga', 'second', 'paternal', 'family', 'name', 'soares', 'bruno', 'soares', 'countryâ', 'brazil', 'residence', 'belo', 'horizonte', 'free', 'encyclopedia', 'jump', 'navigation', 'jump', 'search', 'article', 'former', 'tennis', 'similarly', 'named', 'people', 'free', 'encyclopedia', 'jump', 'navigation', 'jump', 'search', 'jacco', 'eltingh', 'countryâ', 'netherlands', 'residence', 'monte', 'carlo', 'free', 'encyclopedia', 'jump', 'navigation', 'jump', 'search', 'british', 'columbia', 'politician', 'free', 'encyclopedia', 'jump', 'navigation', 'jump', 'search', 'article', 'uses', 'spanish', 'naming', 'customs', 'first', 'paternal', 'family', 'name', 'casal', 'second', 'maternal', 'family', 'name', 'sergio', 'casal', 'full', 'name', 'sergio', 'casal', 'martinez', 'countryâ', 'spain', 'residence', 'barcelona', 'murray', 'participated', 'atp', 'world', 'tour', 'finals', 'london', 'free', 'encyclopedia', 'latest', 'accepted', 'revision', 'jon', 'leach', 'lutz', 'wikipedia', 'free', 'encyclopedia', 'jump', 'navigation', 'jump', 'search', 'russian', 'tennis', 'player', 'biography', 'living', 'person', 'needs', 'additional', 'citations', 'verification', 'please', 'help', 'adding', 'reliable', 'sources', 'contentious', 'material', 'living', 'persons', 'unsourced', 'poorly', 'sourced', 'must', 'removed', 'immediately', 'free', 'encyclopedia', 'jump', 'navigation', 'jump', 'search', 'ecuadorian', 'tennis', 'player', 'people', 'named', 'defeated', 'andre', 'agassi', 'st', 'free', 'encyclopedia', 'jump', 'navigation', 'jump', 'search', 'swedish', 'tennis', 'player', 'redirects', 'uses', 'free', 'encyclopedia', 'jump', 'navigation', 'jump', 'search', 'biography', 'living', 'person', 'needs', 'additional', 'citations', 'verification', 'please', 'help', 'adding', 'reliable', 'sources', 'contentious', 'material', 'living', 'persons', 'unsourced', 'poorly', 'sourced', 'must', 'removed', 'immediately', 'free', 'encyclopedia', 'jump', 'navigation', 'jump', 'search', 'biography', 'living', 'person', 'needs', 'additional', 'citations', 'verification', 'please', 'help', 'adding', 'reliable', 'sources', 'contentious', 'material', 'living', 'persons', 'unsourced', 'poorly', 'sourced', 'must', 'removed', 'immediately', 'free', 'encyclopedia', 'jump', 'navigation', 'jump', 'search', 'nenad', 'countryâ', 'yugoslavia', 'serbia', 'residence', 'belgrade', 'kapitel', 'die', 'der', 'profis', 'overall', 'score', 'including', 'tournaments', 'stands', 'kooyong', 'free', 'encyclopedia', 'jump', 'navigation', 'jump', 'search', 'australian', 'tennis', 'player', 'ken', 'rosewall', 'free', 'encyclopedia', 'jump', 'navigation', 'jump', 'search', 'spanish', 'tennis', 'player', 'manuel', 'orantes', 'countryâ', 'spain', 'residence', 'barcelona', 'free', 'encyclopedia', 'jump', 'navigation', 'jump', 'search', 'jonas', 'countryâ', 'sweden', 'residence', 'stockholm', 'born', 'march', 'alvesta', 'free', 'encyclopedia', 'jump', 'navigation', 'jump', 'search', 'german', 'tennis', 'player', 'boris', 'becker', 'becker', 'full', 'name', 'boris', 'franz', 'becker', 'countryâ', 'west', 'germany', 'germany', 'residence', 'london', 'announced', 'would', 'playing', 'final', 'wimbledon', 'planning', 'retiring', 'end', 'although', 'knocked', 'first', 'round', 'singles', 'united', 'states', 'hard', 'free', 'encyclopedia', 'jump', 'navigation', 'jump', 'search', 'american', 'tennis', 'player', 'andre', 'agassi', 'andre', 'agassi', 'champions', 'shootout', 'full', 'name', 'andre', 'kirk', 'agassi', 'countryâ', 'united', 'states', 'residence', 'vegas', 'free', 'encyclopedia', 'jump', 'navigation', 'jump', 'search', 'å', 'countryâ', 'czechoslovakia', 'born', 'may', 'free', 'encyclopedia', 'jump', 'navigation', 'jump', 'search', 'australian', 'tennis', 'player', 'john', 'newcombe', 'ao', 'free', 'encyclopedia', 'jump', 'navigation', 'jump', 'search', 'leander', 'paes', 'countryâ', 'india', 'residence', 'mumbai', 'filed', 'case', 'local', 'metropolitan', 'court', 'paes', 'free', 'encyclopedia', 'jump', 'navigation', 'jump', 'search', 'american', 'tennis', 'player', 'pete', 'sampras', 'countryâ', 'united', 'states', 'residence', 'lake', 'sherwood', 'free', 'encyclopedia', 'jump', 'navigation', 'jump', 'search', 'swedish', 'tennis', 'player', 'biography', 'living', 'person', 'needs', 'additional', 'citations', 'verification', 'please', 'help', 'adding', 'reliable', 'sources', 'contentious', 'material', 'living', 'persons', 'unsourced', 'poorly', 'sourced', 'must', 'removed', 'immediately', 'free', 'encyclopedia', 'jump', 'navigation', 'jump', 'search', 'marty', 'riessen', 'marty', 'riessen', 'countryâ', 'united', 'states', 'residence', 'boca', 'west', 'free', 'encyclopedia', 'jump', 'navigation', 'jump', 'search', 'bob', 'hewitt', 'bob', 'hewitt', 'full', 'name', 'robert', 'anthony', 'john', 'hewitt', 'countryâ', 'australia', 'south', 'africa', 'residence', 'eastern', 'cape', 'free', 'encyclopedia', 'wojtek', 'fibak', 'jump', 'navigation', 'jump', 'search', 'wojciech', 'fibak', 'wojciech', 'fibak', 'countryâ', 'poland', 'residence', 'beating', 'guillermo', 'vilas', 'final', 'straight', 'borg', 'reached', 'wimbledon', 'quarterfinals', 'free', 'encyclopedia', 'jump', 'navigation', 'jump', 'search', 'redirects', 'people', 'free', 'encyclopedia', 'jump', 'navigation', 'jump', 'search', 'brian', 'gottfried', 'countryâ', 'united', 'states', 'residence', 'sarasota', 'free', 'encyclopedia', 'jump', 'navigation', 'jump', 'search', 'frew', 'mcmillan', 'full', 'name', 'frew', 'donald', 'mcmillan', 'countryâ', 'south', 'africa', 'residence', 'bristol', 'free', 'encyclopedia', 'jump', 'navigation', 'jump', 'search', 'people', 'named', 'raãºl', 'stan', 'smith', 'probably', 'best', 'known', 'line', 'adidas', 'tennis', 'although', 'adidas', 'stan', 'smith', 'shoe', 'recommended', 'modern', 'tennis', 'playing', 'free', 'encyclopedia', 'jump', 'navigation', 'jump', 'search', 'todd', 'woodbridge', 'full', 'name', 'todd', 'andrew', 'woodbridge', 'countryâ', 'australia', 'residence', 'sydney', 'australian', 'open', 'career', 'achievements', 'statistics', 'big', 'four', 'rivalry', 'roger', 'federer', 'rivalry', 'novak', 'djokovic', 'notable', 'matches', 'wimbledon', 'final', 'wimbledon', 'final', 'australian', 'open', 'final', 'australian', 'open', 'final', 'french', 'open', 'final', 'australian', 'open', 'final', 'exhibition', 'matches', 'battle', 'surfaces', 'match', 'africa', 'seasons', 'australian', 'open', 'french', 'open', 'wimbledon', 'us', 'open', 'world', 'tour', 'finals', 'indian', 'wells', 'miami', 'monte', 'carlo', 'rome', 'cincinnati', 'paris', 'olympics', 'davis', 'cup', 'rafael', 'nadal', 'official', 'website', 'v', 'big', 'four', 'roger', 'federer', 'free', 'encyclopedia', 'jump', 'navigation', 'jump', 'search', 'biography', 'living', 'person', 'needs', 'additional', 'citations', 'verification', 'please', 'help', 'adding', 'reliable', 'sources', 'contentious', 'material', 'living', 'persons', 'unsourced', 'poorly', 'sourced', 'must', 'removed', 'immediately', 'free', 'encyclopedia', 'jump', 'navigation', 'jump', 'search', 'see', 'bryan', 'brothers', 'people', 'named', 'mike', 'bryan', 'free', 'encyclopedia', 'jump', 'navigation', 'jump', 'search', 'arena', 'melbourne', 'park', 'used', 'show', 'matches', 'australian', 'open', 'free', 'encyclopedia', 'jump', 'navigation', 'jump', 'search', 'daniel', 'nestor', 'cm', 'nestor', 'canada', 'netherlands', 'davis', 'cup', 'countryâ', 'canada', 'residence', 'toronto', 'free', 'encyclopedia', 'jump', 'navigation', 'jump', 'search', 'australian', 'geologist', 'laver', 'inducted', 'southern', 'california', 'tennis', 'hall', 'performance', 'timeline', 'edit', 'key', 'w', 'f', 'sf', 'qf', 'rr', 'nh', 'rounds', 'free', 'encyclopedia', 'jump', 'navigation', 'jump', 'search', 'romanian', 'tennis', 'player', 'ilie', 'ilie', 'countryâ', 'romania', 'residence', 'born', 'july', 'bucharest', 'free', 'encyclopedia', 'jump', 'navigation', 'jump', 'search', 'tennis', 'player', 'ivan', 'lendl', 'ivan', 'lendl', 'miami']\n"
     ]
    }
   ],
   "source": [
    "print(descs_clean_gm)"
   ]
  }
 ],
 "metadata": {
  "kernelspec": {
   "display_name": "Python 3",
   "language": "python",
   "name": "python3"
  },
  "language_info": {
   "codemirror_mode": {
    "name": "ipython",
    "version": 3
   },
   "file_extension": ".py",
   "mimetype": "text/x-python",
   "name": "python",
   "nbconvert_exporter": "python",
   "pygments_lexer": "ipython3",
   "version": "3.7.3"
  }
 },
 "nbformat": 4,
 "nbformat_minor": 2
}
