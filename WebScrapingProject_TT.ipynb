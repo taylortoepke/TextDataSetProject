{
 "cells": [
  {
   "cell_type": "code",
   "execution_count": 2,
   "metadata": {},
   "outputs": [],
   "source": [
    "import sqlite3\n",
    "import requests\n",
    "from bs4 import BeautifulSoup \n",
    "from bs4.element import Comment\n",
    "import random \n",
    "import datetime "
   ]
  },
  {
   "cell_type": "code",
   "execution_count": 178,
   "metadata": {},
   "outputs": [],
   "source": [
    "#grab visible text on the webpages\n",
    "def tag_visible(element):\n",
    "    if element.parent.name in ['style', 'script', 'head', 'title', 'meta', '[document]']:\n",
    "        return False\n",
    "    if isinstance(element, Comment):\n",
    "        return False\n",
    "    return True\n",
    "\n",
    "#find all text using beautiful soup and filter through\n",
    "def text_from_html(body):\n",
    "    soup = BeautifulSoup(body, 'html.parser')\n",
    "    texts = soup.findAll(text=True)\n",
    "    visible_texts = filter(tag_visible, texts)\n",
    "    return u\" \".join(t.strip()for t in visible_texts)"
   ]
  },
  {
   "cell_type": "code",
   "execution_count": 179,
   "metadata": {},
   "outputs": [],
   "source": [
    "#store all url's from the text document in a list and opens and reads the text document\n",
    "sites = []\n",
    "with open(\"tennisplayerstitles.txt\",'r') as infile :\n",
    "    for line in infile :\n",
    "        sites.append(line.strip())"
   ]
  },
  {
   "cell_type": "code",
   "execution_count": null,
   "metadata": {},
   "outputs": [],
   "source": [
    "#connects to a database I made and either drops or creates a table after running the command\n",
    "db = sqlite3.connect(\"tennis.db\")\n",
    "cur = db.cursor()\n",
    "cur.execute('''DROP TABLE IF EXISTS player_table''')\n",
    "cur.execute('''CREATE TABLE player_table (player_url TEXT, player_name TEXT, player_bio TEXT, player_born TEXT)''')"
   ]
  },
  {
   "cell_type": "code",
   "execution_count": null,
   "metadata": {},
   "outputs": [],
   "source": [
    "#this is grabbing the url, player name, the bio, and the year they were born from the wikipedia pages and creating columns\n",
    "for site in sites:\n",
    "    page = requests.get(site)\n",
    "    soup = BeautifulSoup(page.text, \"html.parser\")\n",
    "    name = text_from_html(str(soup.find_all(\"h1\",attrs={\"id\":\"firstHeading\"})))\n",
    "    text = text_from_html(str(soup.find_all(\"div\", attrs={\"id\":\"bodyContent\"})))\n",
    "    born = text_from_html(str(soup.find_all(\"span\", attrs={\"class\":\"bday\"})))\n",
    "    \n",
    "    \n",
    "    new_row = [site, name, text, born]\n",
    "    cur.execute('''INSERT INTO player_table(player_url, player_name, player_bio, player_born) VALUES(?,?,?,?)''', new_row)\n",
    "    db.commit()"
   ]
  },
  {
   "cell_type": "code",
   "execution_count": null,
   "metadata": {},
   "outputs": [],
   "source": [
    "#closing the database\n",
    "db.close()"
   ]
  },
  {
   "cell_type": "code",
   "execution_count": 1,
   "metadata": {
    "scrolled": true
   },
   "outputs": [
    {
     "name": "stdout",
     "output_type": "stream",
     "text": [
      "*** Introductory Examples for the NLTK Book ***\n",
      "Loading text1, ..., text9 and sent1, ..., sent9\n",
      "Type the name of the text or sentence to view it.\n",
      "Type: 'texts()' or 'sents()' to list the materials.\n",
      "text1: Moby Dick by Herman Melville 1851\n",
      "text2: Sense and Sensibility by Jane Austen 1811\n",
      "text3: The Book of Genesis\n",
      "text4: Inaugural Address Corpus\n",
      "text5: Chat Corpus\n",
      "text6: Monty Python and the Holy Grail\n",
      "text7: Wall Street Journal\n",
      "text8: Personals Corpus\n",
      "text9: The Man Who Was Thursday by G . K . Chesterton 1908\n"
     ]
    }
   ],
   "source": [
    "%matplotlib inline\n",
    "\n",
    "import nltk\n",
    "from nltk.book import *\n",
    "\n",
    "import numpy as np\n",
    "import matplotlib \n",
    "import matplotlib.pyplot as plt"
   ]
  },
  {
   "cell_type": "code",
   "execution_count": 2,
   "metadata": {},
   "outputs": [],
   "source": [
    "#open and read the file to analyze the web scraped text, assign it to a list\n",
    "file_location = \"C:\\\\Users\\\\Taylor Toepke\\\\ADA\\\\applied-data-analytics\\\\web-scraping\\\\\"\n",
    "input_file = \"tenniswebscrapingproject_TT.txt\"\n",
    "sites = []\n",
    "with open(input_file,'r',encoding = \"Latin-1\") as infile :\n",
    "    next(infile)\n",
    "    for idx, line in enumerate(infile.readlines()) :\n",
    "        line = line.strip().split(\",\")"
   ]
  },
  {
   "cell_type": "code",
   "execution_count": 4,
   "metadata": {},
   "outputs": [],
   "source": [
    "   # spot 6 has the description\n",
    "if len(line) >= 7 : # sometimes we don't have descriptions\n",
    "    sites.extend(line[6].split())\n",
    "        "
   ]
  },
  {
   "cell_type": "code",
   "execution_count": 5,
   "metadata": {},
   "outputs": [
    {
     "name": "stdout",
     "output_type": "stream",
     "text": [
      "player_url,player_na\n"
     ]
    }
   ],
   "source": [
    "#read the file and print some lines\n",
    "with open(file_location + input_file,'r') as ifile :\n",
    "    print(ifile.readline(20))\n"
   ]
  },
  {
   "cell_type": "code",
   "execution_count": 6,
   "metadata": {},
   "outputs": [
    {
     "data": {
      "text/plain": [
       "60"
      ]
     },
     "execution_count": 6,
     "metadata": {},
     "output_type": "execute_result"
    }
   ],
   "source": [
    "#grab the length of the list\n",
    "len(sites)"
   ]
  },
  {
   "cell_type": "code",
   "execution_count": 17,
   "metadata": {},
   "outputs": [
    {
     "data": {
      "text/plain": [
       "[('the', 10),\n",
       " ('round', 6),\n",
       " ('reached', 4),\n",
       " ('second', 4),\n",
       " ('of', 4),\n",
       " ('Open', 4),\n",
       " ('but', 2),\n",
       " ('French', 2),\n",
       " ('and', 2),\n",
       " ('US', 2),\n",
       " ('.', 2),\n",
       " ('Her', 2),\n",
       " ('best', 2),\n",
       " ('result', 2),\n",
       " ('was', 2),\n",
       " ('at', 2),\n",
       " ('Wimbledon', 2),\n",
       " ('where', 2),\n",
       " ('she', 2),\n",
       " ('fourth', 2)]"
      ]
     },
     "execution_count": 17,
     "metadata": {},
     "output_type": "execute_result"
    }
   ],
   "source": [
    "#frequency distribution on the list\n",
    "tennis_fd = FreqDist(sites)\n",
    "tennis_fd.most_common(25)"
   ]
  },
  {
   "cell_type": "code",
   "execution_count": 9,
   "metadata": {},
   "outputs": [
    {
     "name": "stdout",
     "output_type": "stream",
     "text": [
      "<FreqDist with 20 samples and 60 outcomes>\n"
     ]
    }
   ],
   "source": [
    "#print samples and outcomes of Frequency Distribution \n",
    "fd = FreqDist(sites)\n",
    "fd.most_common(10)\n",
    "print(fd)"
   ]
  },
  {
   "cell_type": "code",
   "execution_count": 10,
   "metadata": {},
   "outputs": [],
   "source": [
    "#cleaning the list and importing stopwords\n",
    "stopwords = set(nltk.corpus.stopwords.words(\"english\"))\n",
    "stopwords_sp = set(nltk.corpus.stopwords.words(\"spanish\"))\n",
    "\n",
    "def clean_list(text) :\n",
    "    ''' takes a list of text and returns a new list with \n",
    "        * words cast to lowercase\n",
    "        * stopwords removed\n",
    "        * only alphanumeric words\n",
    "    '''\n",
    "    text_clean = [w.lower() for w in text if w.isalpha()]\n",
    "    text_clean = [w for w in text_clean if w not in stopwords]\n",
    "    text_clean = [w for w in text_clean if w not in stopwords_sp]\n",
    "    return(text_clean)"
   ]
  },
  {
   "cell_type": "code",
   "execution_count": 11,
   "metadata": {},
   "outputs": [],
   "source": [
    "descs_clean_gm = clean_list(sites)"
   ]
  },
  {
   "cell_type": "code",
   "execution_count": 12,
   "metadata": {},
   "outputs": [
    {
     "name": "stdout",
     "output_type": "stream",
     "text": [
      "<FreqDist with 10 samples and 30 outcomes>\n"
     ]
    }
   ],
   "source": [
    "#print samples and outcomes\n",
    "fd_mp = FreqDist(descs_clean_gm)\n",
    "fd_mp.most_common(20)\n",
    "print(fd_mp)"
   ]
  },
  {
   "cell_type": "code",
   "execution_count": 15,
   "metadata": {},
   "outputs": [
    {
     "data": {
      "text/plain": [
       "[('round', 6),\n",
       " ('reached', 4),\n",
       " ('second', 4),\n",
       " ('open', 4),\n",
       " ('french', 2),\n",
       " ('us', 2),\n",
       " ('best', 2),\n",
       " ('result', 2),\n",
       " ('wimbledon', 2),\n",
       " ('fourth', 2)]"
      ]
     },
     "execution_count": 15,
     "metadata": {},
     "output_type": "execute_result"
    }
   ],
   "source": [
    "#print most common clean words\n",
    "fd_gm = FreqDist(descs_clean_gm)\n",
    "fd_gm.most_common(50)"
   ]
  },
  {
   "cell_type": "code",
   "execution_count": 14,
   "metadata": {},
   "outputs": [
    {
     "name": "stdout",
     "output_type": "stream",
     "text": [
      "['reached', 'second', 'round', 'french', 'open', 'second', 'round', 'us', 'open', 'best', 'result', 'wimbledon', 'reached', 'fourth', 'round', 'reached', 'second', 'round', 'french', 'open', 'second', 'round', 'us', 'open', 'best', 'result', 'wimbledon', 'reached', 'fourth', 'round']\n"
     ]
    }
   ],
   "source": [
    "print(descs_clean_gm)"
   ]
  }
 ],
 "metadata": {
  "kernelspec": {
   "display_name": "Python 3",
   "language": "python",
   "name": "python3"
  },
  "language_info": {
   "codemirror_mode": {
    "name": "ipython",
    "version": 3
   },
   "file_extension": ".py",
   "mimetype": "text/x-python",
   "name": "python",
   "nbconvert_exporter": "python",
   "pygments_lexer": "ipython3",
   "version": "3.7.3"
  }
 },
 "nbformat": 4,
 "nbformat_minor": 2
}
